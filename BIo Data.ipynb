{
 "cells": [
  {
   "cell_type": "code",
   "execution_count": 1,
   "metadata": {},
   "outputs": [
    {
     "name": "stdout",
     "output_type": "stream",
     "text": [
      "Name:  Jawaria\n",
      "Last Name:  Baig\n",
      "Gender:  Female\n",
      "Age:  23\n",
      "Course:  Artificial Intelligence\n",
      "Instructor:  MISS RIMSHA\n"
     ]
    }
   ],
   "source": [
    "First_Name = 'Jawaria'\n",
    "Last_Name = 'Baig'\n",
    "Age = 23\n",
    "Gender = 'Female'\n",
    "Course = 'Artificial Intelligence'\n",
    "Course_Instructor  = 'MISS RIMSHA'\n",
    "\n",
    "\n",
    "print('Name: ',First_Name + '\\nLast Name: ',Last_Name + '\\nGender: ',Gender +'\\nAge: ',str(Age) + '\\nCourse: ',Course + '\\nInstructor: ',Course_Instructor)"
   ]
  },
  {
   "cell_type": "code",
   "execution_count": null,
   "metadata": {},
   "outputs": [],
   "source": []
  }
 ],
 "metadata": {
  "kernelspec": {
   "display_name": "Python 3",
   "language": "python",
   "name": "python3"
  },
  "language_info": {
   "codemirror_mode": {
    "name": "ipython",
    "version": 3
   },
   "file_extension": ".py",
   "mimetype": "text/x-python",
   "name": "python",
   "nbconvert_exporter": "python",
   "pygments_lexer": "ipython3",
   "version": "3.7.4"
  }
 },
 "nbformat": 4,
 "nbformat_minor": 2
}
